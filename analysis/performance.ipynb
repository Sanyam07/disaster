{
 "cells": [
  {
   "cell_type": "code",
   "execution_count": 10,
   "metadata": {},
   "outputs": [],
   "source": [
    "from disaster import config\n",
    "import numpy as np\n",
    "import pandas as pd\n",
    "import joblib\n",
    "\n",
    "from sklearn.metrics import classification_report\n",
    "import matplotlib.pyplot as plt\n",
    "\n",
    "timestr = '20200304175016'"
   ]
  },
  {
   "cell_type": "code",
   "execution_count": 11,
   "metadata": {},
   "outputs": [],
   "source": [
    "# Load model\n",
    "filename = (\n",
    "    '{0}_model.joblib'\n",
    "    .format(timestr)\n",
    "    )\n",
    "\n",
    "path = (\n",
    "    '{0}/{1}'\n",
    "    .format(\n",
    "        config.models_path,\n",
    "        filename\n",
    "        )\n",
    "    )\n",
    "    \n",
    "clf = joblib.load(path)"
   ]
  },
  {
   "cell_type": "code",
   "execution_count": 101,
   "metadata": {},
   "outputs": [
    {
     "name": "stdout",
     "output_type": "stream",
     "text": [
      "\n",
      "['1' '7' 'abstorm' 'accident' 'africa' 'airplane' 'ameenshaikh3'\n",
      " 'animalrescue' 'antioch' 'ap' 'aria_ahrary' 'arianagrande' 'armageddon'\n",
      " 'artistsunited' 'bb17' 'best' 'beyhive' 'blowmandyup' 'breaking'\n",
      " 'business' 'california' 'ccot' 'chemical' 'chile' 'claytonbryant' 'cool'\n",
      " 'course' 'cowboys' 'crash' 'dance' 'dannyonpc' 'dependency'\n",
      " 'diamondkesawn' 'directioners' 'disaster' 'djicemoon' 'dnb' 'drought'\n",
      " 'dubstep' 'earthquake' 'ebay' 'edm' 'emmerdale' 'fashion' 'flood'\n",
      " 'flooding' 'floods' 'foxnews' 'fukushima' 'genocide' 'gofundme' 'gop'\n",
      " 'guillermo' 'hailstorm' 'handbag' 'hiring' 'hiroshima' 'hot' 'ices'\n",
      " 'idfire' 'india' 'iran' 'irandeal' 'isis' 'itunes' 'itunesmusic' 'japan'\n",
      " 'japì_n' 'job' 'jobs' 'justinbieber' 'kindle' 'listen' 'manchester'\n",
      " 'mayhem' 'mh370' 'michael5sos' 'military' 'mnpdnashville' 'models'\n",
      " 'mumbai' 'myanmar' 'news' 'newyork' 'nickcannon' 'none_at' 'none_hash'\n",
      " 'none_url' 'nowplaying' 'nsfw' 'nuclear' 'okwx' 'pakistan' 'phoenix'\n",
      " 'photography' 'pmharper' 'potus' 'prebreak' 'prison' 'radiation' 'radio'\n",
      " 'ramag' 'raynbowaffair' 'realdonaldtrump' 'realmandyrain' 'riot' 'rockin'\n",
      " 'rockyfire' 'rohingya' 'russian' 'sandiego' 'savebees' 'sigalert' 'sismo'\n",
      " 'sittwe' 'socialnews' 'solar' 'soundcloud' 'stretcher' 't.co'\n",
      " 'technology' 'themagickidraps' 'thetawniest' 'trapmusic' 'trubgme'\n",
      " 'tubestrike' 'tweetlikeitsseptember11th2001' 'ultimalucha'\n",
      " 'unsuckdcmetro' 'usagov' 'weather' 'weathernetwork' 'wildfire'\n",
      " 'wildfires' 'wired' 'womens' 'world' 'worldnetdaily' 'worldnews' 'wx' 'x'\n",
      " 'youtube' 'yyc' 'feature_sent_score']\n",
      "\n",
      "==> TRAIN\n",
      "{'0': {'precision': 0.6958835060207225, 'recall': 0.7710207880856345, 'f1-score': 0.7315278186635266, 'support': 3223}, '1': {'precision': 0.6485714285714286, 'recall': 0.5563725490196079, 'f1-score': 0.5989445910290238, 'support': 2448}, 'accuracy': 0.6783636043025921, 'macro avg': {'precision': 0.6722274672960755, 'recall': 0.6636966685526211, 'f1-score': 0.6652362048462752, 'support': 5671}, 'weighted avg': {'precision': 0.6754603063035877, 'recall': 0.6783636043025921, 'f1-score': 0.6742956301166632, 'support': 5671}}\n",
      "\n",
      "==> VALID\n",
      "{'0': {'precision': 0.696969696969697, 'recall': 0.7605004468275246, 'f1-score': 0.7273504273504274, 'support': 1119}, '1': {'precision': 0.6282940360610264, 'recall': 0.5504252733900364, 'f1-score': 0.5867875647668394, 'support': 823}, 'accuracy': 0.6714727085478888, 'macro avg': {'precision': 0.6626318665153617, 'recall': 0.6554628601087805, 'f1-score': 0.6570689960586333, 'support': 1942}, 'weighted avg': {'precision': 0.6678656449986178, 'recall': 0.6714727085478888, 'f1-score': 0.6677813048446123, 'support': 1942}}\n"
     ]
    }
   ],
   "source": [
    "# Default based on Global Variable `timestr`\n",
    "filename_fs = (\n",
    "    '{0}_feature_selection.txt'\n",
    "    .format(timestr)\n",
    "    )\n",
    "\n",
    "# Load features from file (skip first 2 rows)\n",
    "\n",
    "path = (\n",
    "    '{0}/{1}'\n",
    "    .format(\n",
    "        config.models_path,\n",
    "        filename_fs\n",
    "        )\n",
    "    )\n",
    "\n",
    "try:\n",
    "\n",
    "    best_features = np.loadtxt(\n",
    "        path,\n",
    "        delimiter='\\n',\n",
    "        skiprows=2,\n",
    "        dtype='str'\n",
    "        )\n",
    "\n",
    "except OSError:\n",
    "\n",
    "    raise Exception('''\n",
    "        Error: try passing a filename as parameter.\\n\n",
    "        Example: $ make metadata PARAMS=\\\"--filename_fs=\\'...\\'\\\"\n",
    "        ''')\n",
    "\n",
    "print('\\n{0}'.format(best_features))\n",
    "   \n",
    "y_true = {}\n",
    "y_pred = {}\n",
    "proba = {}\n",
    "x = {}\n",
    "    \n",
    "for s in ['train', 'valid']:\n",
    "    \n",
    "    print('\\n==> {0}'.format(s.upper()))\n",
    "    \n",
    "    # Load data from file\n",
    "\n",
    "    path = ('{0}/{1}.csv'.format(config.data_path, s))\n",
    "    \n",
    "    y_true[s] = pd.read_csv(path, usecols=['id', 'target'])\n",
    "\n",
    "    y_true[s].set_index('id', inplace=True)\n",
    "\n",
    "    y_true[s].sort_index(axis=0, inplace=True)\n",
    "\n",
    "    # Load data from file\n",
    "\n",
    "    path = ('{0}/{1}_features.csv'.format(config.data_path, s))\n",
    "\n",
    "    x[s] = pd.read_csv(path)\n",
    "\n",
    "    x[s].set_index('id', inplace=True)\n",
    "\n",
    "    x[s].sort_index(axis=0, inplace=True)\n",
    "\n",
    "    if s != 'train':\n",
    "        for r in x['train'].columns:\n",
    "\n",
    "            try:\n",
    "                x[s][r]\n",
    "\n",
    "            except KeyError:\n",
    "\n",
    "                x[s][r] = 0\n",
    "    \n",
    "    thr = 0.5\n",
    "    \n",
    "    proba[s] = clf.predict_proba(x[s][best_features])[:,1]\n",
    "    \n",
    "    y_pred[s] = (proba[s] > thr).astype(int)\n",
    "    \n",
    "    print(classification_report(y_true[s], y_pred[s], output_dict=True))"
   ]
  },
  {
   "cell_type": "code",
   "execution_count": 103,
   "metadata": {},
   "outputs": [
    {
     "data": {
      "image/png": "[encoded data removed]",
      "text/plain": [
       "<Figure size 432x288 with 1 Axes>"
      ]
     },
     "metadata": {
      "needs_background": "light"
     },
     "output_type": "display_data"
    },
    {
     "data": {
      "image/png": "[encoded data removed]",
      "text/plain": [
       "<Figure size 432x288 with 1 Axes>"
      ]
     },
     "metadata": {
      "needs_background": "light"
     },
     "output_type": "display_data"
    }
   ],
   "source": [
    "for s in ['train', 'valid']:\n",
    "    \n",
    "    fig1, ax = plt.subplots()\n",
    "    \n",
    "    ax.set_title(s.upper())\n",
    "    \n",
    "    mask_0 = (y_true[s]['target'].values == 0)\n",
    "    mask_1 = (y_true[s]['target'].values == 1)\n",
    "    \n",
    "    proba_0 = pd.Series(proba[s])[mask_0].values\n",
    "    proba_1 = pd.Series(proba[s])[mask_1].values\n",
    "    \n",
    "    ax.boxplot([proba_0, proba_1])\n",
    "\n",
    "    plt.show()"
   ]
  }
 ],
 "metadata": {
  "kernelspec": {
   "display_name": "Python 3",
   "language": "python",
   "name": "python3"
  },
  "language_info": {
   "codemirror_mode": {
    "name": "ipython",
    "version": 3
   },
   "file_extension": ".py",
   "mimetype": "text/x-python",
   "name": "python",
   "nbconvert_exporter": "python",
   "pygments_lexer": "ipython3",
   "version": "3.7.6"
  }
 },
 "nbformat": 4,
 "nbformat_minor": 4
}
